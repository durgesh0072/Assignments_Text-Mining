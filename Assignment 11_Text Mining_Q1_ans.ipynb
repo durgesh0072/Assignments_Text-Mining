{
  "cells": [
    {
      "metadata": {
        "trusted": true
      },
      "cell_type": "code",
      "source": "",
      "execution_count": null,
      "outputs": []
    },
    {
      "metadata": {
        "trusted": true
      },
      "cell_type": "code",
      "source": "import nltk\nnltk.download('stopwords')",
      "execution_count": 17,
      "outputs": [
        {
          "name": "stderr",
          "output_type": "stream",
          "text": "[nltk_data] Downloading package stopwords to\n[nltk_data]     C:\\Users\\premavathi.k\\AppData\\Roaming\\nltk_data...\n[nltk_data]   Unzipping corpora\\stopwords.zip.\n"
        },
        {
          "data": {
            "text/plain": "True"
          },
          "execution_count": 17,
          "metadata": {},
          "output_type": "execute_result"
        }
      ]
    },
    {
      "metadata": {
        "trusted": true
      },
      "cell_type": "code",
      "source": "nltk.download('wordnet')",
      "execution_count": 52,
      "outputs": [
        {
          "name": "stderr",
          "output_type": "stream",
          "text": "[nltk_data] Downloading package wordnet to\n[nltk_data]     C:\\Users\\premavathi.k\\AppData\\Roaming\\nltk_data...\n[nltk_data]   Unzipping corpora\\wordnet.zip.\n"
        },
        {
          "data": {
            "text/plain": "True"
          },
          "execution_count": 52,
          "metadata": {},
          "output_type": "execute_result"
        }
      ]
    },
    {
      "metadata": {
        "trusted": true
      },
      "cell_type": "code",
      "source": "pip install -U textblob",
      "execution_count": 40,
      "outputs": [
        {
          "name": "stdout",
          "output_type": "stream",
          "text": "Collecting textblobNote: you may need to restart the kernel to use updated packages.\n  Downloading textblob-0.15.3-py2.py3-none-any.whl (636 kB)\nRequirement already satisfied, skipping upgrade: nltk>=3.1 in c:\\programdata\\anaconda3\\lib\\site-packages (from textblob) (3.5)\nRequirement already satisfied, skipping upgrade: regex in c:\\programdata\\anaconda3\\lib\\site-packages (from nltk>=3.1->textblob) (2020.6.8)\nRequirement already satisfied, skipping upgrade: click in c:\\programdata\\anaconda3\\lib\\site-packages (from nltk>=3.1->textblob) (7.1.2)\nRequirement already satisfied, skipping upgrade: tqdm in c:\\programdata\\anaconda3\\lib\\site-packages (from nltk>=3.1->textblob) (4.47.0)\nRequirement already satisfied, skipping upgrade: joblib in c:\\programdata\\anaconda3\\lib\\site-packages (from nltk>=3.1->textblob) (0.16.0)\nInstalling collected packages: textblob\nSuccessfully installed textblob-0.15.3\n\n"
        }
      ]
    },
    {
      "metadata": {
        "trusted": true
      },
      "cell_type": "code",
      "source": "import pandas as pd\nimport numpy as np\nimport matplotlib.pyplot as plt\nimport seaborn as sns\nfrom nltk.corpus import stopwords\nfrom textblob import TextBlob",
      "execution_count": 41,
      "outputs": []
    },
    {
      "metadata": {},
      "cell_type": "markdown",
      "source": "## 1. Read Data"
    },
    {
      "metadata": {
        "trusted": true
      },
      "cell_type": "code",
      "source": "data = pd.read_csv('Elon_musk.csv')\ndata.head()",
      "execution_count": 23,
      "outputs": [
        {
          "data": {
            "text/html": "<div>\n<style scoped>\n    .dataframe tbody tr th:only-of-type {\n        vertical-align: middle;\n    }\n\n    .dataframe tbody tr th {\n        vertical-align: top;\n    }\n\n    .dataframe thead th {\n        text-align: right;\n    }\n</style>\n<table border=\"1\" class=\"dataframe\">\n  <thead>\n    <tr style=\"text-align: right;\">\n      <th></th>\n      <th>ID</th>\n      <th>Text</th>\n    </tr>\n  </thead>\n  <tbody>\n    <tr>\n      <th>0</th>\n      <td>1</td>\n      <td>@kunalb11 I’m an alien</td>\n    </tr>\n    <tr>\n      <th>1</th>\n      <td>2</td>\n      <td>@ID_AA_Carmack Ray tracing on Cyberpunk with H...</td>\n    </tr>\n    <tr>\n      <th>2</th>\n      <td>3</td>\n      <td>@joerogan @Spotify Great interview!</td>\n    </tr>\n    <tr>\n      <th>3</th>\n      <td>4</td>\n      <td>@gtera27 Doge is underestimated</td>\n    </tr>\n    <tr>\n      <th>4</th>\n      <td>5</td>\n      <td>@teslacn Congratulations Tesla China for amazi...</td>\n    </tr>\n  </tbody>\n</table>\n</div>",
            "text/plain": "   ID                                               Text\n0   1                             @kunalb11 I’m an alien\n1   2  @ID_AA_Carmack Ray tracing on Cyberpunk with H...\n2   3                @joerogan @Spotify Great interview!\n3   4                    @gtera27 Doge is underestimated\n4   5  @teslacn Congratulations Tesla China for amazi..."
          },
          "execution_count": 23,
          "metadata": {},
          "output_type": "execute_result"
        }
      ]
    },
    {
      "metadata": {},
      "cell_type": "markdown",
      "source": "## 2. Number of Words"
    },
    {
      "metadata": {
        "trusted": true
      },
      "cell_type": "code",
      "source": "#Number of Words in single tweet\ndata['word_count'] = data['Text'].apply(lambda x: len(str(x).split(\" \")))\ndata[['Text','word_count']].head()",
      "execution_count": 24,
      "outputs": [
        {
          "data": {
            "text/html": "<div>\n<style scoped>\n    .dataframe tbody tr th:only-of-type {\n        vertical-align: middle;\n    }\n\n    .dataframe tbody tr th {\n        vertical-align: top;\n    }\n\n    .dataframe thead th {\n        text-align: right;\n    }\n</style>\n<table border=\"1\" class=\"dataframe\">\n  <thead>\n    <tr style=\"text-align: right;\">\n      <th></th>\n      <th>Text</th>\n      <th>word_count</th>\n    </tr>\n  </thead>\n  <tbody>\n    <tr>\n      <th>0</th>\n      <td>@kunalb11 I’m an alien</td>\n      <td>4</td>\n    </tr>\n    <tr>\n      <th>1</th>\n      <td>@ID_AA_Carmack Ray tracing on Cyberpunk with H...</td>\n      <td>13</td>\n    </tr>\n    <tr>\n      <th>2</th>\n      <td>@joerogan @Spotify Great interview!</td>\n      <td>4</td>\n    </tr>\n    <tr>\n      <th>3</th>\n      <td>@gtera27 Doge is underestimated</td>\n      <td>4</td>\n    </tr>\n    <tr>\n      <th>4</th>\n      <td>@teslacn Congratulations Tesla China for amazi...</td>\n      <td>17</td>\n    </tr>\n  </tbody>\n</table>\n</div>",
            "text/plain": "                                                Text  word_count\n0                             @kunalb11 I’m an alien           4\n1  @ID_AA_Carmack Ray tracing on Cyberpunk with H...          13\n2                @joerogan @Spotify Great interview!           4\n3                    @gtera27 Doge is underestimated           4\n4  @teslacn Congratulations Tesla China for amazi...          17"
          },
          "execution_count": 24,
          "metadata": {},
          "output_type": "execute_result"
        }
      ]
    },
    {
      "metadata": {},
      "cell_type": "markdown",
      "source": "## 3. Number of Characters"
    },
    {
      "metadata": {
        "trusted": true
      },
      "cell_type": "code",
      "source": "#Number of characters in single tweet\ndata['char_count'] = data['Text'].str.len() ## this also includes spaces\ndata[['Text','char_count']].head()",
      "execution_count": 25,
      "outputs": [
        {
          "data": {
            "text/html": "<div>\n<style scoped>\n    .dataframe tbody tr th:only-of-type {\n        vertical-align: middle;\n    }\n\n    .dataframe tbody tr th {\n        vertical-align: top;\n    }\n\n    .dataframe thead th {\n        text-align: right;\n    }\n</style>\n<table border=\"1\" class=\"dataframe\">\n  <thead>\n    <tr style=\"text-align: right;\">\n      <th></th>\n      <th>Text</th>\n      <th>char_count</th>\n    </tr>\n  </thead>\n  <tbody>\n    <tr>\n      <th>0</th>\n      <td>@kunalb11 I’m an alien</td>\n      <td>22</td>\n    </tr>\n    <tr>\n      <th>1</th>\n      <td>@ID_AA_Carmack Ray tracing on Cyberpunk with H...</td>\n      <td>82</td>\n    </tr>\n    <tr>\n      <th>2</th>\n      <td>@joerogan @Spotify Great interview!</td>\n      <td>35</td>\n    </tr>\n    <tr>\n      <th>3</th>\n      <td>@gtera27 Doge is underestimated</td>\n      <td>31</td>\n    </tr>\n    <tr>\n      <th>4</th>\n      <td>@teslacn Congratulations Tesla China for amazi...</td>\n      <td>104</td>\n    </tr>\n  </tbody>\n</table>\n</div>",
            "text/plain": "                                                Text  char_count\n0                             @kunalb11 I’m an alien          22\n1  @ID_AA_Carmack Ray tracing on Cyberpunk with H...          82\n2                @joerogan @Spotify Great interview!          35\n3                    @gtera27 Doge is underestimated          31\n4  @teslacn Congratulations Tesla China for amazi...         104"
          },
          "execution_count": 25,
          "metadata": {},
          "output_type": "execute_result"
        }
      ]
    },
    {
      "metadata": {},
      "cell_type": "markdown",
      "source": "## 4. Average Word Length"
    },
    {
      "metadata": {
        "trusted": true
      },
      "cell_type": "code",
      "source": "def avg_word(sentence):\n  words = sentence.split()\n  return (sum(len(word) for word in words)/len(words))\n\ndata['avg_word'] = data['Text'].apply(lambda x: avg_word(x))\ndata[['Text','avg_word']].head()",
      "execution_count": 26,
      "outputs": [
        {
          "data": {
            "text/html": "<div>\n<style scoped>\n    .dataframe tbody tr th:only-of-type {\n        vertical-align: middle;\n    }\n\n    .dataframe tbody tr th {\n        vertical-align: top;\n    }\n\n    .dataframe thead th {\n        text-align: right;\n    }\n</style>\n<table border=\"1\" class=\"dataframe\">\n  <thead>\n    <tr style=\"text-align: right;\">\n      <th></th>\n      <th>Text</th>\n      <th>avg_word</th>\n    </tr>\n  </thead>\n  <tbody>\n    <tr>\n      <th>0</th>\n      <td>@kunalb11 I’m an alien</td>\n      <td>4.750000</td>\n    </tr>\n    <tr>\n      <th>1</th>\n      <td>@ID_AA_Carmack Ray tracing on Cyberpunk with H...</td>\n      <td>5.384615</td>\n    </tr>\n    <tr>\n      <th>2</th>\n      <td>@joerogan @Spotify Great interview!</td>\n      <td>8.000000</td>\n    </tr>\n    <tr>\n      <th>3</th>\n      <td>@gtera27 Doge is underestimated</td>\n      <td>7.000000</td>\n    </tr>\n    <tr>\n      <th>4</th>\n      <td>@teslacn Congratulations Tesla China for amazi...</td>\n      <td>5.176471</td>\n    </tr>\n  </tbody>\n</table>\n</div>",
            "text/plain": "                                                Text  avg_word\n0                             @kunalb11 I’m an alien  4.750000\n1  @ID_AA_Carmack Ray tracing on Cyberpunk with H...  5.384615\n2                @joerogan @Spotify Great interview!  8.000000\n3                    @gtera27 Doge is underestimated  7.000000\n4  @teslacn Congratulations Tesla China for amazi...  5.176471"
          },
          "execution_count": 26,
          "metadata": {},
          "output_type": "execute_result"
        }
      ]
    },
    {
      "metadata": {},
      "cell_type": "markdown",
      "source": "## 5. Number of stopwords"
    },
    {
      "metadata": {
        "trusted": true
      },
      "cell_type": "code",
      "source": "stop = stopwords.words('english')\n\ndata['stopwords'] = data['Text'].apply(lambda x: len([x for x in x.split() if x in stop]))\ndata[['Text','stopwords']].head()",
      "execution_count": 27,
      "outputs": [
        {
          "data": {
            "text/html": "<div>\n<style scoped>\n    .dataframe tbody tr th:only-of-type {\n        vertical-align: middle;\n    }\n\n    .dataframe tbody tr th {\n        vertical-align: top;\n    }\n\n    .dataframe thead th {\n        text-align: right;\n    }\n</style>\n<table border=\"1\" class=\"dataframe\">\n  <thead>\n    <tr style=\"text-align: right;\">\n      <th></th>\n      <th>Text</th>\n      <th>stopwords</th>\n    </tr>\n  </thead>\n  <tbody>\n    <tr>\n      <th>0</th>\n      <td>@kunalb11 I’m an alien</td>\n      <td>1</td>\n    </tr>\n    <tr>\n      <th>1</th>\n      <td>@ID_AA_Carmack Ray tracing on Cyberpunk with H...</td>\n      <td>4</td>\n    </tr>\n    <tr>\n      <th>2</th>\n      <td>@joerogan @Spotify Great interview!</td>\n      <td>0</td>\n    </tr>\n    <tr>\n      <th>3</th>\n      <td>@gtera27 Doge is underestimated</td>\n      <td>1</td>\n    </tr>\n    <tr>\n      <th>4</th>\n      <td>@teslacn Congratulations Tesla China for amazi...</td>\n      <td>5</td>\n    </tr>\n  </tbody>\n</table>\n</div>",
            "text/plain": "                                                Text  stopwords\n0                             @kunalb11 I’m an alien          1\n1  @ID_AA_Carmack Ray tracing on Cyberpunk with H...          4\n2                @joerogan @Spotify Great interview!          0\n3                    @gtera27 Doge is underestimated          1\n4  @teslacn Congratulations Tesla China for amazi...          5"
          },
          "execution_count": 27,
          "metadata": {},
          "output_type": "execute_result"
        }
      ]
    },
    {
      "metadata": {},
      "cell_type": "markdown",
      "source": "## 6. Number of Special Characters"
    },
    {
      "metadata": {
        "trusted": true
      },
      "cell_type": "code",
      "source": "data['hastags'] = data['Text'].apply(lambda x: len([x for x in x.split() if x.startswith('@')]))\ndata[['Text','hastags']].head()",
      "execution_count": 28,
      "outputs": [
        {
          "data": {
            "text/html": "<div>\n<style scoped>\n    .dataframe tbody tr th:only-of-type {\n        vertical-align: middle;\n    }\n\n    .dataframe tbody tr th {\n        vertical-align: top;\n    }\n\n    .dataframe thead th {\n        text-align: right;\n    }\n</style>\n<table border=\"1\" class=\"dataframe\">\n  <thead>\n    <tr style=\"text-align: right;\">\n      <th></th>\n      <th>Text</th>\n      <th>hastags</th>\n    </tr>\n  </thead>\n  <tbody>\n    <tr>\n      <th>0</th>\n      <td>@kunalb11 I’m an alien</td>\n      <td>1</td>\n    </tr>\n    <tr>\n      <th>1</th>\n      <td>@ID_AA_Carmack Ray tracing on Cyberpunk with H...</td>\n      <td>1</td>\n    </tr>\n    <tr>\n      <th>2</th>\n      <td>@joerogan @Spotify Great interview!</td>\n      <td>2</td>\n    </tr>\n    <tr>\n      <th>3</th>\n      <td>@gtera27 Doge is underestimated</td>\n      <td>1</td>\n    </tr>\n    <tr>\n      <th>4</th>\n      <td>@teslacn Congratulations Tesla China for amazi...</td>\n      <td>1</td>\n    </tr>\n  </tbody>\n</table>\n</div>",
            "text/plain": "                                                Text  hastags\n0                             @kunalb11 I’m an alien        1\n1  @ID_AA_Carmack Ray tracing on Cyberpunk with H...        1\n2                @joerogan @Spotify Great interview!        2\n3                    @gtera27 Doge is underestimated        1\n4  @teslacn Congratulations Tesla China for amazi...        1"
          },
          "execution_count": 28,
          "metadata": {},
          "output_type": "execute_result"
        }
      ]
    },
    {
      "metadata": {},
      "cell_type": "markdown",
      "source": "## 7. Number of Numerics"
    },
    {
      "metadata": {
        "trusted": true
      },
      "cell_type": "code",
      "source": "data['numerics'] = data['Text'].apply(lambda x: len([x for x in x.split() if x.isdigit()]))\ndata[['Text','numerics']].head()",
      "execution_count": 29,
      "outputs": [
        {
          "data": {
            "text/html": "<div>\n<style scoped>\n    .dataframe tbody tr th:only-of-type {\n        vertical-align: middle;\n    }\n\n    .dataframe tbody tr th {\n        vertical-align: top;\n    }\n\n    .dataframe thead th {\n        text-align: right;\n    }\n</style>\n<table border=\"1\" class=\"dataframe\">\n  <thead>\n    <tr style=\"text-align: right;\">\n      <th></th>\n      <th>Text</th>\n      <th>numerics</th>\n    </tr>\n  </thead>\n  <tbody>\n    <tr>\n      <th>0</th>\n      <td>@kunalb11 I’m an alien</td>\n      <td>0</td>\n    </tr>\n    <tr>\n      <th>1</th>\n      <td>@ID_AA_Carmack Ray tracing on Cyberpunk with H...</td>\n      <td>0</td>\n    </tr>\n    <tr>\n      <th>2</th>\n      <td>@joerogan @Spotify Great interview!</td>\n      <td>0</td>\n    </tr>\n    <tr>\n      <th>3</th>\n      <td>@gtera27 Doge is underestimated</td>\n      <td>0</td>\n    </tr>\n    <tr>\n      <th>4</th>\n      <td>@teslacn Congratulations Tesla China for amazi...</td>\n      <td>0</td>\n    </tr>\n  </tbody>\n</table>\n</div>",
            "text/plain": "                                                Text  numerics\n0                             @kunalb11 I’m an alien         0\n1  @ID_AA_Carmack Ray tracing on Cyberpunk with H...         0\n2                @joerogan @Spotify Great interview!         0\n3                    @gtera27 Doge is underestimated         0\n4  @teslacn Congratulations Tesla China for amazi...         0"
          },
          "execution_count": 29,
          "metadata": {},
          "output_type": "execute_result"
        }
      ]
    },
    {
      "metadata": {},
      "cell_type": "markdown",
      "source": "## 8. Number of Upper Case Words"
    },
    {
      "metadata": {
        "trusted": true
      },
      "cell_type": "code",
      "source": "data['upper'] = data['Text'].apply(lambda x: len([x for x in x.split() if x.isupper()]))\ndata[['Text','upper']].head()",
      "execution_count": 30,
      "outputs": [
        {
          "data": {
            "text/html": "<div>\n<style scoped>\n    .dataframe tbody tr th:only-of-type {\n        vertical-align: middle;\n    }\n\n    .dataframe tbody tr th {\n        vertical-align: top;\n    }\n\n    .dataframe thead th {\n        text-align: right;\n    }\n</style>\n<table border=\"1\" class=\"dataframe\">\n  <thead>\n    <tr style=\"text-align: right;\">\n      <th></th>\n      <th>Text</th>\n      <th>upper</th>\n    </tr>\n  </thead>\n  <tbody>\n    <tr>\n      <th>0</th>\n      <td>@kunalb11 I’m an alien</td>\n      <td>0</td>\n    </tr>\n    <tr>\n      <th>1</th>\n      <td>@ID_AA_Carmack Ray tracing on Cyberpunk with H...</td>\n      <td>1</td>\n    </tr>\n    <tr>\n      <th>2</th>\n      <td>@joerogan @Spotify Great interview!</td>\n      <td>0</td>\n    </tr>\n    <tr>\n      <th>3</th>\n      <td>@gtera27 Doge is underestimated</td>\n      <td>0</td>\n    </tr>\n    <tr>\n      <th>4</th>\n      <td>@teslacn Congratulations Tesla China for amazi...</td>\n      <td>0</td>\n    </tr>\n  </tbody>\n</table>\n</div>",
            "text/plain": "                                                Text  upper\n0                             @kunalb11 I’m an alien      0\n1  @ID_AA_Carmack Ray tracing on Cyberpunk with H...      1\n2                @joerogan @Spotify Great interview!      0\n3                    @gtera27 Doge is underestimated      0\n4  @teslacn Congratulations Tesla China for amazi...      0"
          },
          "execution_count": 30,
          "metadata": {},
          "output_type": "execute_result"
        }
      ]
    },
    {
      "metadata": {},
      "cell_type": "markdown",
      "source": "# Pre - Processing "
    },
    {
      "metadata": {},
      "cell_type": "markdown",
      "source": "## 2.1 Lower Case"
    },
    {
      "metadata": {
        "trusted": true
      },
      "cell_type": "code",
      "source": "data['Text'] = data['Text'].apply(lambda x: \" \".join(x.lower() for x in x.split()))\ndata['Text'].head()",
      "execution_count": 31,
      "outputs": [
        {
          "data": {
            "text/plain": "0                               @kunalb11 i’m an alien\n1    @id_aa_carmack ray tracing on cyberpunk with h...\n2                  @joerogan @spotify great interview!\n3                      @gtera27 doge is underestimated\n4    @teslacn congratulations tesla china for amazi...\nName: Text, dtype: object"
          },
          "execution_count": 31,
          "metadata": {},
          "output_type": "execute_result"
        }
      ]
    },
    {
      "metadata": {},
      "cell_type": "markdown",
      "source": "## 2.2 Removing Punctuation"
    },
    {
      "metadata": {
        "trusted": true
      },
      "cell_type": "code",
      "source": "data['Text'] = data['Text'].str.replace('[^\\w\\s]','')\ndata['Text'].head()",
      "execution_count": 32,
      "outputs": [
        {
          "data": {
            "text/plain": "0                                 kunalb11 im an alien\n1    id_aa_carmack ray tracing on cyberpunk with hd...\n2                     joerogan spotify great interview\n3                       gtera27 doge is underestimated\n4    teslacn congratulations tesla china for amazin...\nName: Text, dtype: object"
          },
          "execution_count": 32,
          "metadata": {},
          "output_type": "execute_result"
        }
      ]
    },
    {
      "metadata": {},
      "cell_type": "markdown",
      "source": "## 2.3 Removal of Stop Words"
    },
    {
      "metadata": {
        "trusted": true
      },
      "cell_type": "code",
      "source": "stop = stopwords.words('english')\ndata['Text'] = data['Text'].apply(lambda x: \" \".join(x for x in x.split() if x not in stop))\ndata['Text'].head()",
      "execution_count": 33,
      "outputs": [
        {
          "data": {
            "text/plain": "0                                    kunalb11 im alien\n1    id_aa_carmack ray tracing cyberpunk hdr nextle...\n2                     joerogan spotify great interview\n3                          gtera27 doge underestimated\n4    teslacn congratulations tesla china amazing ex...\nName: Text, dtype: object"
          },
          "execution_count": 33,
          "metadata": {},
          "output_type": "execute_result"
        }
      ]
    },
    {
      "metadata": {},
      "cell_type": "markdown",
      "source": "## 2.4 Common word removal"
    },
    {
      "metadata": {
        "trusted": true
      },
      "cell_type": "code",
      "source": "freq = pd.Series(' '.join(data['Text']).split()).value_counts()[:10]\nfreq",
      "execution_count": 34,
      "outputs": [
        {
          "data": {
            "text/plain": "spacex            239\namp               218\ntesla             166\nerdayastronaut    142\nrt                127\nppathole          123\nflcnhvy           114\nyes                86\ngreat              76\nteslaownerssv      73\ndtype: int64"
          },
          "execution_count": 34,
          "metadata": {},
          "output_type": "execute_result"
        }
      ]
    },
    {
      "metadata": {
        "trusted": true
      },
      "cell_type": "code",
      "source": "freq = list(freq.index)\ndata['Text'] = data['Text'].apply(lambda x: \" \".join(x for x in x.split() if x not in freq))\ndata['Text'].head()",
      "execution_count": 35,
      "outputs": [
        {
          "data": {
            "text/plain": "0                                    kunalb11 im alien\n1    id_aa_carmack ray tracing cyberpunk hdr nextle...\n2                           joerogan spotify interview\n3                          gtera27 doge underestimated\n4    teslacn congratulations china amazing executio...\nName: Text, dtype: object"
          },
          "execution_count": 35,
          "metadata": {},
          "output_type": "execute_result"
        }
      ]
    },
    {
      "metadata": {},
      "cell_type": "markdown",
      "source": "## 2.5 Rare Words Removal"
    },
    {
      "metadata": {
        "trusted": true
      },
      "cell_type": "code",
      "source": "freq = pd.Series(' '.join(data['Text']).split()).value_counts()[-10:]\nfreq",
      "execution_count": 36,
      "outputs": [
        {
          "data": {
            "text/plain": "lipstick              1\ninflationary          1\ncapability            1\nstarted               1\ncraters               1\nsurprised             1\nturnaround            1\nadagio                1\nbelieved              1\nhttpstco6ojfysuaxo    1\ndtype: int64"
          },
          "execution_count": 36,
          "metadata": {},
          "output_type": "execute_result"
        }
      ]
    },
    {
      "metadata": {
        "trusted": true
      },
      "cell_type": "code",
      "source": "freq = list(freq.index)\ndata['Text'] = data['Text'].apply(lambda x: \" \".join(x for x in x.split() if x not in freq))\ndata['Text'].head()",
      "execution_count": 37,
      "outputs": [
        {
          "data": {
            "text/plain": "0                                    kunalb11 im alien\n1    id_aa_carmack ray tracing cyberpunk hdr nextle...\n2                           joerogan spotify interview\n3                          gtera27 doge underestimated\n4    teslacn congratulations china amazing executio...\nName: Text, dtype: object"
          },
          "execution_count": 37,
          "metadata": {},
          "output_type": "execute_result"
        }
      ]
    },
    {
      "metadata": {},
      "cell_type": "markdown",
      "source": "## 2.6 Spelling correction"
    },
    {
      "metadata": {
        "trusted": true
      },
      "cell_type": "code",
      "source": "data['Text'][:5].apply(lambda x: str(TextBlob(x).correct()))",
      "execution_count": 42,
      "outputs": [
        {
          "data": {
            "text/plain": "0                                    kunalb11 in alien\n1    id_aa_carmack ray tracing cyberpunk her nextle...\n2                           joerogan specify interview\n3                          gtera27 done underestimated\n4    teslacn congratulations china amazing executio...\nName: Text, dtype: object"
          },
          "execution_count": 42,
          "metadata": {},
          "output_type": "execute_result"
        }
      ]
    },
    {
      "metadata": {},
      "cell_type": "markdown",
      "source": "## 2.7 Tokenization"
    },
    {
      "metadata": {
        "trusted": true
      },
      "cell_type": "code",
      "source": "TextBlob(data['Text'][1]).words",
      "execution_count": 45,
      "outputs": [
        {
          "data": {
            "text/plain": "WordList(['id_aa_carmack', 'ray', 'tracing', 'cyberpunk', 'hdr', 'nextlevel', 'tried'])"
          },
          "execution_count": 45,
          "metadata": {},
          "output_type": "execute_result"
        }
      ]
    },
    {
      "metadata": {
        "trusted": true
      },
      "cell_type": "code",
      "source": "nltk.download('punkt')",
      "execution_count": 44,
      "outputs": [
        {
          "name": "stderr",
          "output_type": "stream",
          "text": "[nltk_data] Downloading package punkt to\n[nltk_data]     C:\\Users\\premavathi.k\\AppData\\Roaming\\nltk_data...\n[nltk_data]   Unzipping tokenizers\\punkt.zip.\n"
        },
        {
          "data": {
            "text/plain": "True"
          },
          "execution_count": 44,
          "metadata": {},
          "output_type": "execute_result"
        }
      ]
    },
    {
      "metadata": {},
      "cell_type": "markdown",
      "source": "## 2.8 Stemming"
    },
    {
      "metadata": {
        "trusted": true
      },
      "cell_type": "code",
      "source": "from nltk.stem import PorterStemmer\nst = PorterStemmer()\ndata['Text'][:5].apply(lambda x: \" \".join([st.stem(word) for word in x.split()]))",
      "execution_count": 48,
      "outputs": [
        {
          "data": {
            "text/plain": "0                                    kunalb11 im alien\n1    id_aa_carmack ray trace cyberpunk hdr nextleve...\n2                           joerogan spotifi interview\n3                              gtera27 doge underestim\n4    teslacn congratul china amaz execut last year ...\nName: Text, dtype: object"
          },
          "execution_count": 48,
          "metadata": {},
          "output_type": "execute_result"
        }
      ]
    },
    {
      "metadata": {},
      "cell_type": "markdown",
      "source": "## 2.9 Lemmatization"
    },
    {
      "metadata": {
        "trusted": true
      },
      "cell_type": "code",
      "source": "from textblob import Word",
      "execution_count": 49,
      "outputs": []
    },
    {
      "metadata": {
        "trusted": true
      },
      "cell_type": "code",
      "source": "data['Text'] = data['Text'].apply(lambda x: \" \".join([Word(word).lemmatize() for word in x.split()]))\ndata['Text'].head()",
      "execution_count": 54,
      "outputs": [
        {
          "data": {
            "text/plain": "0                                    kunalb11 im alien\n1    id_aa_carmack ray tracing cyberpunk hdr nextle...\n2                           joerogan spotify interview\n3                          gtera27 doge underestimated\n4    teslacn congratulation china amazing execution...\nName: Text, dtype: object"
          },
          "execution_count": 54,
          "metadata": {},
          "output_type": "execute_result"
        }
      ]
    },
    {
      "metadata": {},
      "cell_type": "markdown",
      "source": "# 3 Advanced Text Processing"
    },
    {
      "metadata": {},
      "cell_type": "markdown",
      "source": "## 3.1 N-grams"
    },
    {
      "metadata": {
        "trusted": true
      },
      "cell_type": "code",
      "source": "TextBlob(data['Text'][0]).ngrams(2)",
      "execution_count": 55,
      "outputs": [
        {
          "data": {
            "text/plain": "[WordList(['kunalb11', 'im']), WordList(['im', 'alien'])]"
          },
          "execution_count": 55,
          "metadata": {},
          "output_type": "execute_result"
        }
      ]
    },
    {
      "metadata": {},
      "cell_type": "markdown",
      "source": "## 3.2 Term frequency\nTerm frequency is simply the ratio of the count of a word present in a sentence, to the length of the sentence.\n\nTherefore, we can generalize term frequency as:\n\nTF = (Number of times term T appears in the particular row) / (number of terms in that row)"
    },
    {
      "metadata": {
        "trusted": true
      },
      "cell_type": "code",
      "source": "tf1 = (data['Text'][1:2]).apply(lambda x: pd.value_counts(x.split(\" \"))).sum(axis = 0).reset_index()\ntf1.columns = ['words','tf']\ntf1",
      "execution_count": 56,
      "outputs": [
        {
          "data": {
            "text/html": "<div>\n<style scoped>\n    .dataframe tbody tr th:only-of-type {\n        vertical-align: middle;\n    }\n\n    .dataframe tbody tr th {\n        vertical-align: top;\n    }\n\n    .dataframe thead th {\n        text-align: right;\n    }\n</style>\n<table border=\"1\" class=\"dataframe\">\n  <thead>\n    <tr style=\"text-align: right;\">\n      <th></th>\n      <th>words</th>\n      <th>tf</th>\n    </tr>\n  </thead>\n  <tbody>\n    <tr>\n      <th>0</th>\n      <td>tried</td>\n      <td>1</td>\n    </tr>\n    <tr>\n      <th>1</th>\n      <td>cyberpunk</td>\n      <td>1</td>\n    </tr>\n    <tr>\n      <th>2</th>\n      <td>ray</td>\n      <td>1</td>\n    </tr>\n    <tr>\n      <th>3</th>\n      <td>id_aa_carmack</td>\n      <td>1</td>\n    </tr>\n    <tr>\n      <th>4</th>\n      <td>hdr</td>\n      <td>1</td>\n    </tr>\n    <tr>\n      <th>5</th>\n      <td>nextlevel</td>\n      <td>1</td>\n    </tr>\n    <tr>\n      <th>6</th>\n      <td>tracing</td>\n      <td>1</td>\n    </tr>\n  </tbody>\n</table>\n</div>",
            "text/plain": "           words  tf\n0          tried   1\n1      cyberpunk   1\n2            ray   1\n3  id_aa_carmack   1\n4            hdr   1\n5      nextlevel   1\n6        tracing   1"
          },
          "execution_count": 56,
          "metadata": {},
          "output_type": "execute_result"
        }
      ]
    },
    {
      "metadata": {},
      "cell_type": "markdown",
      "source": "## 3.3 Inverse Document Frequency\nThe intuition behind inverse document frequency (IDF) is that a word is not of much use to us if it’s appearing in all the documents.\n\nTherefore, the IDF of each word is the log of the ratio of the total number of rows to the number of rows in which that word is present.\n\nIDF = log(N/n), where, N is the total number of rows and n is the number of rows in which the word was present."
    },
    {
      "metadata": {
        "trusted": true
      },
      "cell_type": "code",
      "source": "for i,word in enumerate(tf1['words']):\n  tf1.loc[i, 'idf'] = np.log(data.shape[0]/(len(data[data['Text'].str.contains(word)])))\n\ntf1",
      "execution_count": 57,
      "outputs": [
        {
          "data": {
            "text/html": "<div>\n<style scoped>\n    .dataframe tbody tr th:only-of-type {\n        vertical-align: middle;\n    }\n\n    .dataframe tbody tr th {\n        vertical-align: top;\n    }\n\n    .dataframe thead th {\n        text-align: right;\n    }\n</style>\n<table border=\"1\" class=\"dataframe\">\n  <thead>\n    <tr style=\"text-align: right;\">\n      <th></th>\n      <th>words</th>\n      <th>tf</th>\n      <th>idf</th>\n    </tr>\n  </thead>\n  <tbody>\n    <tr>\n      <th>0</th>\n      <td>tried</td>\n      <td>1</td>\n      <td>5.808643</td>\n    </tr>\n    <tr>\n      <th>1</th>\n      <td>cyberpunk</td>\n      <td>1</td>\n      <td>5.115496</td>\n    </tr>\n    <tr>\n      <th>2</th>\n      <td>ray</td>\n      <td>1</td>\n      <td>5.035453</td>\n    </tr>\n    <tr>\n      <th>3</th>\n      <td>id_aa_carmack</td>\n      <td>1</td>\n      <td>4.166415</td>\n    </tr>\n    <tr>\n      <th>4</th>\n      <td>hdr</td>\n      <td>1</td>\n      <td>6.907255</td>\n    </tr>\n    <tr>\n      <th>5</th>\n      <td>nextlevel</td>\n      <td>1</td>\n      <td>6.907255</td>\n    </tr>\n    <tr>\n      <th>6</th>\n      <td>tracing</td>\n      <td>1</td>\n      <td>7.600402</td>\n    </tr>\n  </tbody>\n</table>\n</div>",
            "text/plain": "           words  tf       idf\n0          tried   1  5.808643\n1      cyberpunk   1  5.115496\n2            ray   1  5.035453\n3  id_aa_carmack   1  4.166415\n4            hdr   1  6.907255\n5      nextlevel   1  6.907255\n6        tracing   1  7.600402"
          },
          "execution_count": 57,
          "metadata": {},
          "output_type": "execute_result"
        }
      ]
    },
    {
      "metadata": {},
      "cell_type": "markdown",
      "source": "## 3.4 Term Frequency – Inverse Document Frequency (TF-IDF)"
    },
    {
      "metadata": {
        "trusted": true
      },
      "cell_type": "code",
      "source": "tf1['tfidf'] = tf1['tf'] * tf1['idf']\ntf1",
      "execution_count": 58,
      "outputs": [
        {
          "data": {
            "text/html": "<div>\n<style scoped>\n    .dataframe tbody tr th:only-of-type {\n        vertical-align: middle;\n    }\n\n    .dataframe tbody tr th {\n        vertical-align: top;\n    }\n\n    .dataframe thead th {\n        text-align: right;\n    }\n</style>\n<table border=\"1\" class=\"dataframe\">\n  <thead>\n    <tr style=\"text-align: right;\">\n      <th></th>\n      <th>words</th>\n      <th>tf</th>\n      <th>idf</th>\n      <th>tfidf</th>\n    </tr>\n  </thead>\n  <tbody>\n    <tr>\n      <th>0</th>\n      <td>tried</td>\n      <td>1</td>\n      <td>5.808643</td>\n      <td>5.808643</td>\n    </tr>\n    <tr>\n      <th>1</th>\n      <td>cyberpunk</td>\n      <td>1</td>\n      <td>5.115496</td>\n      <td>5.115496</td>\n    </tr>\n    <tr>\n      <th>2</th>\n      <td>ray</td>\n      <td>1</td>\n      <td>5.035453</td>\n      <td>5.035453</td>\n    </tr>\n    <tr>\n      <th>3</th>\n      <td>id_aa_carmack</td>\n      <td>1</td>\n      <td>4.166415</td>\n      <td>4.166415</td>\n    </tr>\n    <tr>\n      <th>4</th>\n      <td>hdr</td>\n      <td>1</td>\n      <td>6.907255</td>\n      <td>6.907255</td>\n    </tr>\n    <tr>\n      <th>5</th>\n      <td>nextlevel</td>\n      <td>1</td>\n      <td>6.907255</td>\n      <td>6.907255</td>\n    </tr>\n    <tr>\n      <th>6</th>\n      <td>tracing</td>\n      <td>1</td>\n      <td>7.600402</td>\n      <td>7.600402</td>\n    </tr>\n  </tbody>\n</table>\n</div>",
            "text/plain": "           words  tf       idf     tfidf\n0          tried   1  5.808643  5.808643\n1      cyberpunk   1  5.115496  5.115496\n2            ray   1  5.035453  5.035453\n3  id_aa_carmack   1  4.166415  4.166415\n4            hdr   1  6.907255  6.907255\n5      nextlevel   1  6.907255  6.907255\n6        tracing   1  7.600402  7.600402"
          },
          "execution_count": 58,
          "metadata": {},
          "output_type": "execute_result"
        }
      ]
    },
    {
      "metadata": {
        "trusted": true
      },
      "cell_type": "code",
      "source": "from sklearn.feature_extraction.text import TfidfVectorizer\ntfidf = TfidfVectorizer(max_features=1000, lowercase=True, analyzer='word',\n stop_words= 'english',ngram_range=(1,1))\nvect = tfidf.fit_transform(data['Text'])\nvect",
      "execution_count": 59,
      "outputs": [
        {
          "data": {
            "text/plain": "<1999x1000 sparse matrix of type '<class 'numpy.float64'>'\n\twith 7375 stored elements in Compressed Sparse Row format>"
          },
          "execution_count": 59,
          "metadata": {},
          "output_type": "execute_result"
        }
      ]
    },
    {
      "metadata": {},
      "cell_type": "markdown",
      "source": "## 3.5 Bag of Words"
    },
    {
      "metadata": {
        "trusted": true
      },
      "cell_type": "code",
      "source": "from sklearn.feature_extraction.text import CountVectorizer\nbow = CountVectorizer(max_features=1000, lowercase=True, ngram_range=(1,1),analyzer = \"word\")\ndata_bow = bow.fit_transform(data['Text'])\ndata_bow",
      "execution_count": 60,
      "outputs": [
        {
          "data": {
            "text/plain": "<1999x1000 sparse matrix of type '<class 'numpy.int64'>'\n\twith 8023 stored elements in Compressed Sparse Row format>"
          },
          "execution_count": 60,
          "metadata": {},
          "output_type": "execute_result"
        }
      ]
    },
    {
      "metadata": {},
      "cell_type": "markdown",
      "source": "## 3.6 Sentiment Analysis"
    },
    {
      "metadata": {
        "trusted": true
      },
      "cell_type": "code",
      "source": "data['Text'][:5].apply(lambda x: TextBlob(x).sentiment)",
      "execution_count": 61,
      "outputs": [
        {
          "data": {
            "text/plain": "0                                 (-0.25, 0.75)\n1                                    (0.0, 0.0)\n2                                    (0.0, 0.0)\n3                                    (0.0, 0.0)\n4    (0.20000000000000004, 0.32222222222222224)\nName: Text, dtype: object"
          },
          "execution_count": 61,
          "metadata": {},
          "output_type": "execute_result"
        }
      ]
    },
    {
      "metadata": {
        "trusted": true
      },
      "cell_type": "code",
      "source": "data['sentiment'] = data['Text'].apply(lambda x: TextBlob(x).sentiment[0] )\ndata[['Text','sentiment']].head()",
      "execution_count": 63,
      "outputs": [
        {
          "data": {
            "text/html": "<div>\n<style scoped>\n    .dataframe tbody tr th:only-of-type {\n        vertical-align: middle;\n    }\n\n    .dataframe tbody tr th {\n        vertical-align: top;\n    }\n\n    .dataframe thead th {\n        text-align: right;\n    }\n</style>\n<table border=\"1\" class=\"dataframe\">\n  <thead>\n    <tr style=\"text-align: right;\">\n      <th></th>\n      <th>Text</th>\n      <th>sentiment</th>\n    </tr>\n  </thead>\n  <tbody>\n    <tr>\n      <th>0</th>\n      <td>kunalb11 im alien</td>\n      <td>-0.25</td>\n    </tr>\n    <tr>\n      <th>1</th>\n      <td>id_aa_carmack ray tracing cyberpunk hdr nextle...</td>\n      <td>0.00</td>\n    </tr>\n    <tr>\n      <th>2</th>\n      <td>joerogan spotify interview</td>\n      <td>0.00</td>\n    </tr>\n    <tr>\n      <th>3</th>\n      <td>gtera27 doge underestimated</td>\n      <td>0.00</td>\n    </tr>\n    <tr>\n      <th>4</th>\n      <td>teslacn congratulation china amazing execution...</td>\n      <td>0.20</td>\n    </tr>\n  </tbody>\n</table>\n</div>",
            "text/plain": "                                                Text  sentiment\n0                                  kunalb11 im alien      -0.25\n1  id_aa_carmack ray tracing cyberpunk hdr nextle...       0.00\n2                         joerogan spotify interview       0.00\n3                        gtera27 doge underestimated       0.00\n4  teslacn congratulation china amazing execution...       0.20"
          },
          "execution_count": 63,
          "metadata": {},
          "output_type": "execute_result"
        }
      ]
    },
    {
      "metadata": {
        "trusted": true
      },
      "cell_type": "code",
      "source": "",
      "execution_count": null,
      "outputs": []
    }
  ],
  "metadata": {
    "kernelspec": {
      "name": "python3",
      "display_name": "Python 3",
      "language": "python"
    },
    "language_info": {
      "name": "python",
      "version": "3.8.3",
      "mimetype": "text/x-python",
      "codemirror_mode": {
        "name": "ipython",
        "version": 3
      },
      "pygments_lexer": "ipython3",
      "nbconvert_exporter": "python",
      "file_extension": ".py"
    },
    "gist": {
      "id": "",
      "data": {
        "description": "Assignment 11.ipynb",
        "public": true
      }
    }
  },
  "nbformat": 4,
  "nbformat_minor": 4
}